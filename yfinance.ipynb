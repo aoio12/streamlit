{
 "cells": [
  {
   "cell_type": "code",
   "execution_count": 6,
   "metadata": {},
   "outputs": [
    {
     "name": "stdout",
     "output_type": "stream",
     "text": [
      "\u001b[33mDEPRECATION: Configuring installation scheme with distutils config files is deprecated and will no longer work in the near future. If you are using a Homebrew or Linuxbrew Python, please see discussion at https://github.com/Homebrew/homebrew-core/issues/76621\u001b[0m\u001b[33m\n",
      "\u001b[0mCollecting yfinance\n",
      "  Downloading yfinance-0.1.70-py2.py3-none-any.whl (26 kB)\n",
      "Collecting multitasking>=0.0.7\n",
      "  Downloading multitasking-0.0.10.tar.gz (8.2 kB)\n",
      "  Preparing metadata (setup.py) ... \u001b[?25ldone\n",
      "\u001b[?25hCollecting lxml>=4.5.1\n",
      "  Downloading lxml-4.8.0-cp39-cp39-macosx_10_15_x86_64.whl (4.6 MB)\n",
      "\u001b[2K     \u001b[90m━━━━━━━━━━━━━━━━━━━━━━━━━━━━━━━━━━━━━━━━\u001b[0m \u001b[32m4.6/4.6 MB\u001b[0m \u001b[31m2.3 MB/s\u001b[0m eta \u001b[36m0:00:00\u001b[0m00:01\u001b[0m00:01\u001b[0m\n",
      "\u001b[?25hRequirement already satisfied: pandas>=0.24.0 in /usr/local/lib/python3.9/site-packages (from yfinance) (1.3.4)\n",
      "Requirement already satisfied: numpy>=1.15 in /usr/local/lib/python3.9/site-packages (from yfinance) (1.21.2)\n",
      "Requirement already satisfied: requests>=2.26 in /usr/local/lib/python3.9/site-packages (from yfinance) (2.27.1)\n",
      "Requirement already satisfied: python-dateutil>=2.7.3 in /usr/local/lib/python3.9/site-packages (from pandas>=0.24.0->yfinance) (2.8.2)\n",
      "Requirement already satisfied: pytz>=2017.3 in /usr/local/lib/python3.9/site-packages (from pandas>=0.24.0->yfinance) (2021.3)\n",
      "Requirement already satisfied: idna<4,>=2.5 in /usr/local/lib/python3.9/site-packages (from requests>=2.26->yfinance) (3.3)\n",
      "Requirement already satisfied: urllib3<1.27,>=1.21.1 in /usr/local/lib/python3.9/site-packages (from requests>=2.26->yfinance) (1.26.9)\n",
      "Requirement already satisfied: certifi>=2017.4.17 in /usr/local/lib/python3.9/site-packages (from requests>=2.26->yfinance) (2021.10.8)\n",
      "Requirement already satisfied: charset-normalizer~=2.0.0 in /usr/local/lib/python3.9/site-packages (from requests>=2.26->yfinance) (2.0.12)\n",
      "Requirement already satisfied: six>=1.5 in /usr/local/lib/python3.9/site-packages (from python-dateutil>=2.7.3->pandas>=0.24.0->yfinance) (1.16.0)\n",
      "Building wheels for collected packages: multitasking\n",
      "  Building wheel for multitasking (setup.py) ... \u001b[?25ldone\n",
      "\u001b[?25h  Created wheel for multitasking: filename=multitasking-0.0.10-py3-none-any.whl size=8500 sha256=065c2cae75797b9e97ddd33a77550a73055ab4cd6ab294d20e2fa921c46e18cf\n",
      "  Stored in directory: /Users/aoi/Library/Caches/pip/wheels/f2/b5/2c/59ba95dcf854e542944c75fe3da584e4e3833b319735a0546c\n",
      "Successfully built multitasking\n",
      "Installing collected packages: multitasking, lxml, yfinance\n",
      "\u001b[33m  DEPRECATION: Configuring installation scheme with distutils config files is deprecated and will no longer work in the near future. If you are using a Homebrew or Linuxbrew Python, please see discussion at https://github.com/Homebrew/homebrew-core/issues/76621\u001b[0m\u001b[33m\n",
      "\u001b[0m\u001b[33m  DEPRECATION: Configuring installation scheme with distutils config files is deprecated and will no longer work in the near future. If you are using a Homebrew or Linuxbrew Python, please see discussion at https://github.com/Homebrew/homebrew-core/issues/76621\u001b[0m\u001b[33m\n",
      "\u001b[0m\u001b[33m  DEPRECATION: Configuring installation scheme with distutils config files is deprecated and will no longer work in the near future. If you are using a Homebrew or Linuxbrew Python, please see discussion at https://github.com/Homebrew/homebrew-core/issues/76621\u001b[0m\u001b[33m\n",
      "\u001b[0m\u001b[33mDEPRECATION: Configuring installation scheme with distutils config files is deprecated and will no longer work in the near future. If you are using a Homebrew or Linuxbrew Python, please see discussion at https://github.com/Homebrew/homebrew-core/issues/76621\u001b[0m\u001b[33m\n",
      "\u001b[0mSuccessfully installed lxml-4.8.0 multitasking-0.0.10 yfinance-0.1.70\n"
     ]
    }
   ],
   "source": [
    "!pip3 install yfinance"
   ]
  },
  {
   "cell_type": "code",
   "execution_count": 4,
   "metadata": {},
   "outputs": [
    {
     "name": "stdout",
     "output_type": "stream",
     "text": [
      "\u001b[33mDEPRECATION: Configuring installation scheme with distutils config files is deprecated and will no longer work in the near future. If you are using a Homebrew or Linuxbrew Python, please see discussion at https://github.com/Homebrew/homebrew-core/issues/76621\u001b[0m\n",
      "Requirement already satisfied: pip in /usr/local/lib/python3.9/site-packages (21.3.1)\n",
      "Collecting pip\n",
      "  Downloading pip-22.0.4-py3-none-any.whl (2.1 MB)\n",
      "     |████████████████████████████████| 2.1 MB 5.0 MB/s            \n",
      "\u001b[?25hInstalling collected packages: pip\n",
      "  Attempting uninstall: pip\n",
      "    Found existing installation: pip 21.3.1\n",
      "    Uninstalling pip-21.3.1:\n",
      "      Successfully uninstalled pip-21.3.1\n",
      "\u001b[33mDEPRECATION: Configuring installation scheme with distutils config files is deprecated and will no longer work in the near future. If you are using a Homebrew or Linuxbrew Python, please see discussion at https://github.com/Homebrew/homebrew-core/issues/76621\u001b[0m\n",
      "Successfully installed pip-22.0.4\n"
     ]
    }
   ],
   "source": [
    "!/usr/local/opt/python@3.9/bin/python3.9 -m pip install --upgrade pip"
   ]
  },
  {
   "cell_type": "code",
   "execution_count": 7,
   "metadata": {},
   "outputs": [],
   "source": [
    "import pandas as pd\n",
    "import matplotlib.pyplot as plt\n",
    "import yfinance as yf\n",
    "\n",
    "%matplotlib inline"
   ]
  },
  {
   "cell_type": "code",
   "execution_count": 15,
   "metadata": {},
   "outputs": [
    {
     "data": {
      "text/html": [
       "<div>\n",
       "<style scoped>\n",
       "    .dataframe tbody tr th:only-of-type {\n",
       "        vertical-align: middle;\n",
       "    }\n",
       "\n",
       "    .dataframe tbody tr th {\n",
       "        vertical-align: top;\n",
       "    }\n",
       "\n",
       "    .dataframe thead th {\n",
       "        text-align: right;\n",
       "    }\n",
       "</style>\n",
       "<table border=\"1\" class=\"dataframe\">\n",
       "  <thead>\n",
       "    <tr style=\"text-align: right;\">\n",
       "      <th>Date</th>\n",
       "      <th>08 April 2022</th>\n",
       "      <th>11 April 2022</th>\n",
       "      <th>12 April 2022</th>\n",
       "      <th>13 April 2022</th>\n",
       "      <th>14 April 2022</th>\n",
       "      <th>18 April 2022</th>\n",
       "      <th>19 April 2022</th>\n",
       "      <th>20 April 2022</th>\n",
       "      <th>21 April 2022</th>\n",
       "      <th>22 April 2022</th>\n",
       "      <th>25 April 2022</th>\n",
       "      <th>26 April 2022</th>\n",
       "      <th>27 April 2022</th>\n",
       "      <th>28 April 2022</th>\n",
       "      <th>29 April 2022</th>\n",
       "      <th>02 May 2022</th>\n",
       "      <th>03 May 2022</th>\n",
       "      <th>04 May 2022</th>\n",
       "      <th>05 May 2022</th>\n",
       "      <th>06 May 2022</th>\n",
       "    </tr>\n",
       "    <tr>\n",
       "      <th>Name</th>\n",
       "      <th></th>\n",
       "      <th></th>\n",
       "      <th></th>\n",
       "      <th></th>\n",
       "      <th></th>\n",
       "      <th></th>\n",
       "      <th></th>\n",
       "      <th></th>\n",
       "      <th></th>\n",
       "      <th></th>\n",
       "      <th></th>\n",
       "      <th></th>\n",
       "      <th></th>\n",
       "      <th></th>\n",
       "      <th></th>\n",
       "      <th></th>\n",
       "      <th></th>\n",
       "      <th></th>\n",
       "      <th></th>\n",
       "      <th></th>\n",
       "    </tr>\n",
       "  </thead>\n",
       "  <tbody>\n",
       "    <tr>\n",
       "      <th>facebook</th>\n",
       "      <td>222.330002</td>\n",
       "      <td>216.460007</td>\n",
       "      <td>214.139999</td>\n",
       "      <td>214.990005</td>\n",
       "      <td>210.179993</td>\n",
       "      <td>210.770004</td>\n",
       "      <td>217.309998</td>\n",
       "      <td>200.419998</td>\n",
       "      <td>188.070007</td>\n",
       "      <td>184.110001</td>\n",
       "      <td>186.990005</td>\n",
       "      <td>180.949997</td>\n",
       "      <td>174.949997</td>\n",
       "      <td>205.729996</td>\n",
       "      <td>200.470001</td>\n",
       "      <td>211.130005</td>\n",
       "      <td>212.029999</td>\n",
       "      <td>223.410004</td>\n",
       "      <td>208.279999</td>\n",
       "      <td>203.770004</td>\n",
       "    </tr>\n",
       "  </tbody>\n",
       "</table>\n",
       "</div>"
      ],
      "text/plain": [
       "Date      08 April 2022  11 April 2022  12 April 2022  13 April 2022  \\\n",
       "Name                                                                   \n",
       "facebook     222.330002     216.460007     214.139999     214.990005   \n",
       "\n",
       "Date      14 April 2022  18 April 2022  19 April 2022  20 April 2022  \\\n",
       "Name                                                                   \n",
       "facebook     210.179993     210.770004     217.309998     200.419998   \n",
       "\n",
       "Date      21 April 2022  22 April 2022  25 April 2022  26 April 2022  \\\n",
       "Name                                                                   \n",
       "facebook     188.070007     184.110001     186.990005     180.949997   \n",
       "\n",
       "Date      27 April 2022  28 April 2022  29 April 2022  02 May 2022  \\\n",
       "Name                                                                 \n",
       "facebook     174.949997     205.729996     200.470001   211.130005   \n",
       "\n",
       "Date      03 May 2022  04 May 2022  05 May 2022  06 May 2022  \n",
       "Name                                                          \n",
       "facebook   212.029999   223.410004   208.279999   203.770004  "
      ]
     },
     "execution_count": 15,
     "metadata": {},
     "output_type": "execute_result"
    }
   ],
   "source": [
    "days = 20\n",
    "tickers = {\n",
    "    'apple': 'AAPL',\n",
    "    'facebook': 'FB'\n",
    "}\n",
    "company = 'facebook'\n",
    "\n",
    "\n",
    "tkr = yf.Ticker(tickers[company])\n",
    "\n",
    "hist = tkr.history(period=f'{days}d')\n",
    "hist.index = hist.index.strftime('%d %B %Y')\n",
    "hist = hist[['Close']]\n",
    "hist.columns = [company]\n",
    "hist = hist.T\n",
    "hist.index.name = 'Name'\n",
    "hist"
   ]
  },
  {
   "cell_type": "code",
   "execution_count": null,
   "metadata": {},
   "outputs": [],
   "source": []
  }
 ],
 "metadata": {
  "interpreter": {
   "hash": "aee8b7b246df8f9039afb4144a1f6fd8d2ca17a180786b69acc140d282b71a49"
  },
  "kernelspec": {
   "display_name": "Python 3.9.7 64-bit",
   "language": "python",
   "name": "python3"
  },
  "language_info": {
   "codemirror_mode": {
    "name": "ipython",
    "version": 3
   },
   "file_extension": ".py",
   "mimetype": "text/x-python",
   "name": "python",
   "nbconvert_exporter": "python",
   "pygments_lexer": "ipython3",
   "version": "3.9.7"
  },
  "orig_nbformat": 4
 },
 "nbformat": 4,
 "nbformat_minor": 2
}
